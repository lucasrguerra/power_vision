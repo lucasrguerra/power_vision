{
 "cells": [
  {
   "cell_type": "code",
   "execution_count": 1,
   "metadata": {},
   "outputs": [
    {
     "name": "stdout",
     "output_type": "stream",
     "text": [
      "Defaulting to user installation because normal site-packages is not writeable\n",
      "Requirement already satisfied: pyserial in c:\\program files\\python312\\lib\\site-packages (3.5)\n",
      "Note: you may need to restart the kernel to use updated packages.\n"
     ]
    },
    {
     "name": "stderr",
     "output_type": "stream",
     "text": [
      "\n",
      "[notice] A new release of pip is available: 24.1.1 -> 24.2\n",
      "[notice] To update, run: python.exe -m pip install --upgrade pip\n"
     ]
    }
   ],
   "source": [
    "%pip install pyserial"
   ]
  },
  {
   "cell_type": "code",
   "execution_count": 2,
   "metadata": {},
   "outputs": [],
   "source": [
    "from IPython.display import clear_output\n",
    "import serial\n",
    "import time\n",
    "import math"
   ]
  },
  {
   "cell_type": "code",
   "execution_count": 3,
   "metadata": {},
   "outputs": [],
   "source": [
    "def setVoltageType(voltage_type):\n",
    "    global voltage_correction_factor\n",
    "    if voltage_type == 0:\n",
    "        voltage_correction_factor = 0.5769\n",
    "    elif voltage_type == 1:\n",
    "        voltage_correction_factor = 0.5061\n",
    "    elif voltage_type == 2:\n",
    "        voltage_correction_factor = 0.3151\n",
    "    elif voltage_type == 3:\n",
    "        voltage_correction_factor = 0.1995\n",
    "    else:\n",
    "        voltage_correction_factor = 0.5769\n",
    "        print(\"Invalid voltage type. Defaulting to 0.5769\")\n",
    "\n",
    "def getCorrectedVoltage(voltage):\n",
    "    global voltage_correction_factor\n",
    "    return (voltage - 1650) * voltage_correction_factor"
   ]
  },
  {
   "cell_type": "code",
   "execution_count": 4,
   "metadata": {},
   "outputs": [],
   "source": [
    "def setCurrentType(current_type):\n",
    "    global current_correction_factor\n",
    "    if current_type == 0:\n",
    "        current_correction_factor = 0.866\n",
    "    elif current_type == 1:\n",
    "        current_correction_factor = 0.642\n",
    "    elif current_type == 2:\n",
    "        current_correction_factor = 0.403\n",
    "    elif current_type == 3:\n",
    "        current_correction_factor = 0.255\n",
    "    elif current_type == 4:\n",
    "        current_correction_factor = 0.173\n",
    "    elif current_type == 5:\n",
    "        current_correction_factor = 0.096\n",
    "    elif current_type == 6:\n",
    "        current_correction_factor = 0.064\n",
    "    elif current_type == 7:\n",
    "        current_correction_factor = 0.096\n",
    "    elif current_type == 8:\n",
    "        current_correction_factor = 0.0265\n",
    "    else:\n",
    "        current_correction_factor = 0.866\n",
    "        print(\"Invalid current type. Defaulting to 0.866\")\n",
    "\n",
    "def getCorrectedCurrent(current):\n",
    "    global voltage_correction_factor\n",
    "    return (current - 1650) * current_correction_factor"
   ]
  },
  {
   "cell_type": "code",
   "execution_count": 5,
   "metadata": {},
   "outputs": [],
   "source": [
    "SYSTEM_TYPE =           0   # Change this value according to the schematic \"Type Of Electrical System\" table\n",
    "CURRENT_TYPE =          8   # Change this value according to the schematic \"Type Of Current\" table\n",
    "VOLTAGE_TYPE =          2   # Change this value according to the schematic \"Type Of Voltage\" table\n",
    "\n",
    "setVoltageType(VOLTAGE_TYPE)\n",
    "setCurrentType(CURRENT_TYPE)"
   ]
  },
  {
   "cell_type": "code",
   "execution_count": 23,
   "metadata": {},
   "outputs": [
    {
     "name": "stdout",
     "output_type": "stream",
     "text": [
      "23\n"
     ]
    }
   ],
   "source": [
    "power_vision = serial.Serial(\n",
    "    port='COM21',\n",
    "    baudrate=115200,\n",
    ")\n",
    "\n",
    "time_to_analyze = 20\n",
    "\n",
    "frequency = 0\n",
    "voltage_a_array = []\n",
    "current_a_array = []\n",
    "start_time = time.time()\n",
    "actual_time = start_time\n",
    "while (actual_time - start_time) < time_to_analyze:\n",
    "    try:\n",
    "        data = power_vision.readline().decode().strip()\n",
    "        if data:\n",
    "            data = data.split(' ')\n",
    "            if data[0] == \"samples:\":\n",
    "                voltage_a_array.append(getCorrectedVoltage(float(data[1])))\n",
    "                current_a_array.append(getCorrectedCurrent(float(data[2])))\n",
    "            elif data[0] == \"frequency:\":\n",
    "                frequency = float(data[1])\n",
    "                if frequency > 70:\n",
    "                    continue\n",
    "                \n",
    "                samples_voltage_a = voltage_a_array.copy()\n",
    "                samples_current_a = current_a_array.copy()\n",
    "                voltage_a_array = []\n",
    "                current_a_array = []\n",
    "\n",
    "                number_of_samples = len(samples_voltage_a)\n",
    "                print(number_of_samples)\n",
    "\n",
    "                clear_output(wait=True)\n",
    "    except:\n",
    "        pass\n",
    "\n",
    "    actual_time = time.time()\n",
    "\n",
    "power_vision.close()"
   ]
  },
  {
   "cell_type": "code",
   "execution_count": 22,
   "metadata": {},
   "outputs": [],
   "source": [
    "power_vision.close()"
   ]
  }
 ],
 "metadata": {
  "kernelspec": {
   "display_name": "Python 3",
   "language": "python",
   "name": "python3"
  },
  "language_info": {
   "codemirror_mode": {
    "name": "ipython",
    "version": 3
   },
   "file_extension": ".py",
   "mimetype": "text/x-python",
   "name": "python",
   "nbconvert_exporter": "python",
   "pygments_lexer": "ipython3",
   "version": "3.12.2"
  }
 },
 "nbformat": 4,
 "nbformat_minor": 2
}
