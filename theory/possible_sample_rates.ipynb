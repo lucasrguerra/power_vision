{
 "cells": [
  {
   "cell_type": "code",
   "execution_count": 5,
   "metadata": {},
   "outputs": [
    {
     "name": "stdout",
     "output_type": "stream",
     "text": [
      "Sample rate: 4200Hz / 34 / 0 / 238.0952380952381us / 0.095238095238102\n",
      "Sample rate: 8400Hz / 69 / 0 / 119.04761904761905us / 0.047619047619051\n",
      "Sample rate: 10200Hz / 84 / 0 / 98.03921568627452us / 0.03921568627451677\n"
     ]
    }
   ],
   "source": [
    "base_frequency = 60\n",
    "\n",
    "for i in range(11, 100):\n",
    "    sample_rate = (60 + (i * 60)) * 2\n",
    "    frequency = base_frequency / sample_rate\n",
    "    microseconds = 1000000 / sample_rate\n",
    "    rest = microseconds % 1\n",
    "    if (sample_rate % 50) == 0:\n",
    "        if rest > 0.90 or rest < 0.10:\n",
    "            print(f\"Sample rate: {sample_rate}Hz / {i} / {int(frequency)} / {microseconds}us / {rest}\")"
   ]
  }
 ],
 "metadata": {
  "kernelspec": {
   "display_name": "Python 3",
   "language": "python",
   "name": "python3"
  },
  "language_info": {
   "codemirror_mode": {
    "name": "ipython",
    "version": 3
   },
   "file_extension": ".py",
   "mimetype": "text/x-python",
   "name": "python",
   "nbconvert_exporter": "python",
   "pygments_lexer": "ipython3",
   "version": "3.12.2"
  }
 },
 "nbformat": 4,
 "nbformat_minor": 2
}
