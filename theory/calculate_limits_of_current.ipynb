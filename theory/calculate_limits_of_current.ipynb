{
 "cells": [
  {
   "cell_type": "code",
   "execution_count": 1,
   "metadata": {},
   "outputs": [
    {
     "name": "stdout",
     "output_type": "stream",
     "text": [
      "Defaulting to user installation because normal site-packages is not writeable\n",
      "Collecting tabulate\n",
      "  Using cached tabulate-0.9.0-py3-none-any.whl.metadata (34 kB)\n",
      "Using cached tabulate-0.9.0-py3-none-any.whl (35 kB)\n",
      "Installing collected packages: tabulate\n",
      "Successfully installed tabulate-0.9.0\n",
      "Note: you may need to restart the kernel to use updated packages.\n"
     ]
    },
    {
     "name": "stderr",
     "output_type": "stream",
     "text": [
      "\n",
      "[notice] A new release of pip is available: 24.3.1 -> 25.0.1\n",
      "[notice] To update, run: python.exe -m pip install --upgrade pip\n"
     ]
    }
   ],
   "source": [
    "%pip install tabulate"
   ]
  },
  {
   "cell_type": "code",
   "execution_count": 1,
   "metadata": {},
   "outputs": [],
   "source": [
    "reference_voltage = 1.65\n",
    "raise_of_three = 2 ** 0.5\n",
    "\n",
    "\n",
    "\n",
    "def calculate_data(current_ratio, input_current, feedback_resistor):\n",
    "    transformer_current = input_current / current_ratio\n",
    "    output_voltage = transformer_current * feedback_resistor\n",
    "    output_peak_voltage = output_voltage * raise_of_three\n",
    "    output_peak_to_peak_voltage = output_peak_voltage * 2\n",
    "    output_max_voltage = reference_voltage + output_peak_voltage \n",
    "    output_min_voltage = reference_voltage - output_peak_voltage\n",
    "    transform_ratio = input_current / output_voltage\n",
    "\n",
    "    return [f\"{input_current:.5f}\", f\"{transformer_current:.5f}\", f\"{output_voltage:.5f}\", f\"{output_peak_voltage:.5f}\", f\"{output_peak_to_peak_voltage:.5f}\", f\"{output_max_voltage:.5f}\", f\"{output_min_voltage:.5f}\", f\"{transform_ratio:.5f}\"]"
   ]
  },
  {
   "cell_type": "code",
   "execution_count": 13,
   "metadata": {},
   "outputs": [
    {
     "name": "stdout",
     "output_type": "stream",
     "text": [
      "  Input Current    Transformer Current    Output Voltage    Output Peak Voltage    Output Peak to Peak Voltage    Output Max Voltage    Output Min Voltage    Transform Ratio\n",
      "---------------  ---------------------  ----------------  ---------------------  -----------------------------  --------------------  --------------------  -----------------\n",
      "           1000                0.33333           0.66667                1.1547                         2.3094                2.8047                0.4953           1500\n",
      "            750                0.25              0.675                  1.16913                        2.33827               2.81913               0.48087          1111.11\n",
      "            500                0.16667           0.75                   1.29904                        2.59808               2.94904               0.35096           666.667\n",
      "            300                0.1               0.68                   1.17779                        2.35559               2.82779               0.47221           441.176\n",
      "            200                0.06667           0.66667                1.1547                         2.3094                2.8047                0.4953            300\n",
      "            120                0.04              0.72                   1.24708                        2.49415               2.89708               0.40292           166.667\n",
      "             80                0.02667           0.72                   1.24708                        2.49415               2.89708               0.40292           111.111\n",
      "            100                0.05              0.6                    1.03923                        2.07846               2.68923               0.61077           166.667\n",
      "             20                0.01              0.68                   1.17779                        2.35559               2.82779               0.47221            29.4118\n"
     ]
    }
   ],
   "source": [
    "from tabulate import tabulate\n",
    "print(tabulate([\n",
    "    calculate_data(3000, 1000, 2),\n",
    "    calculate_data(3000, 750, 2.7),\n",
    "    calculate_data(3000, 500, 4.5),\n",
    "    calculate_data(3000, 300, 6.8),\n",
    "    calculate_data(3000, 200, 10),\n",
    "    calculate_data(3000, 120, 18),\n",
    "    calculate_data(3000, 80, 27),\n",
    "    calculate_data(2000, 100, 12),\n",
    "    calculate_data(2000, 20, 68),\n",
    "], headers=[\"Input Current\", \"Transformer Current\", \"Output Voltage\", \"Output Peak Voltage\", \"Output Peak to Peak Voltage\", \"Output Max Voltage\", \"Output Min Voltage\", \"Transform Ratio\"]))"
   ]
  },
  {
   "cell_type": "code",
   "execution_count": null,
   "metadata": {},
   "outputs": [
    {
     "name": "stdout",
     "output_type": "stream",
     "text": [
      "  Input Current    Transformer Current    Output Voltage    Output Peak Voltage    Output Peak to Peak Voltage    Output Max Voltage    Output Min Voltage    Transform Ratio\n",
      "---------------  ---------------------  ----------------  ---------------------  -----------------------------  --------------------  --------------------  -----------------\n",
      "            100                0.05556              1                   1.41421                        2.82843               3.06421               0.23579                100\n",
      "             50                0.02778              0.5                 0.70711                        1.41421               2.35711               0.94289                100\n",
      "             25                0.01389              0.25                0.35355                        0.70711               2.00355               1.29645                100\n",
      "             10                0.00556              0.1                 0.14142                        0.28284               1.79142               1.50858                100\n"
     ]
    }
   ],
   "source": [
    "from tabulate import tabulate\n",
    "print(tabulate([\n",
    "    calculate_data(1800, 100, 18),\n",
    "    calculate_data(1800, 50, 18),\n",
    "    calculate_data(1800, 25, 18),\n",
    "    calculate_data(1800, 10, 18),\n",
    "], headers=[\"Input Current\", \"Transformer Current\", \"Output Voltage\", \"Output Peak Voltage\", \"Output Peak to Peak Voltage\", \"Output Max Voltage\", \"Output Min Voltage\", \"Transform Ratio\"]))"
   ]
  },
  {
   "cell_type": "code",
   "execution_count": 3,
   "metadata": {},
   "outputs": [
    {
     "name": "stdout",
     "output_type": "stream",
     "text": [
      "Feedback Resistor: 17.28000 Ohm\n"
     ]
    }
   ],
   "source": [
    "def calculate(tr, i_max):\n",
    "    fr = (0.96 * tr) / i_max\n",
    "    print(f\"Feedback Resistor: {fr:.5f} Ohm\")\n",
    "\n",
    "calculate(1800, 100)"
   ]
  }
 ],
 "metadata": {
  "kernelspec": {
   "display_name": "Python 3",
   "language": "python",
   "name": "python3"
  },
  "language_info": {
   "codemirror_mode": {
    "name": "ipython",
    "version": 3
   },
   "file_extension": ".py",
   "mimetype": "text/x-python",
   "name": "python",
   "nbconvert_exporter": "python",
   "pygments_lexer": "ipython3",
   "version": "3.12.2"
  }
 },
 "nbformat": 4,
 "nbformat_minor": 2
}
