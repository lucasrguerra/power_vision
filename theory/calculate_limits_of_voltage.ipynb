{
 "cells": [
  {
   "cell_type": "code",
   "execution_count": 6,
   "metadata": {},
   "outputs": [
    {
     "name": "stdout",
     "output_type": "stream",
     "text": [
      "Defaulting to user installation because normal site-packages is not writeable\n",
      "Requirement already satisfied: tabulate in c:\\users\\lucasrguerra\\appdata\\roaming\\python\\python312\\site-packages (0.9.0)\n",
      "Note: you may need to restart the kernel to use updated packages.\n"
     ]
    },
    {
     "name": "stderr",
     "output_type": "stream",
     "text": [
      "\n",
      "[notice] A new release of pip is available: 24.1.1 -> 24.2\n",
      "[notice] To update, run: python.exe -m pip install --upgrade pip\n"
     ]
    }
   ],
   "source": [
    "%pip install tabulate"
   ]
  },
  {
   "cell_type": "code",
   "execution_count": 1,
   "metadata": {},
   "outputs": [],
   "source": [
    "reference_voltage = 1.65\n",
    "raise_of_two = 2 ** 0.5\n",
    "\n",
    "\n",
    "\n",
    "def calculate_data(voltage, shunt_resistor, feedback_resistor):\n",
    "    input_voltage = voltage * raise_of_two\n",
    "    transformer_current = input_voltage / shunt_resistor\n",
    "    output_voltage = transformer_current * feedback_resistor\n",
    "    output_peak_voltage = output_voltage * raise_of_two\n",
    "    output_peak_to_peak_voltage = output_peak_voltage * 2\n",
    "    output_max_voltage = reference_voltage + output_peak_voltage\n",
    "    output_min_voltage = reference_voltage - output_peak_voltage\n",
    "    transform_ratio = input_voltage / output_voltage\n",
    "    \n",
    "\n",
    "    return [f\"{voltage:.5f}\", f\"{transformer_current:.5f}\", f\"{output_voltage:.5f}\", f\"{output_peak_voltage:.5f}\", f\"{output_peak_to_peak_voltage:.5f}\", f\"{output_max_voltage:.5f}\", f\"{output_min_voltage:.5f}\", f\"{transform_ratio:.5f}\"]"
   ]
  },
  {
   "cell_type": "code",
   "execution_count": null,
   "metadata": {},
   "outputs": [
    {
     "name": "stdout",
     "output_type": "stream",
     "text": [
      "  Input Voltage (Vac)    Tranformer Current (A)    Output Voltage (V)    Output Peak Voltage (V)    Output Peak to Peak Voltage (V)    Output Max Voltage (V)    Output Min Voltage (V)    Transform Ratio\n",
      "---------------------  ------------------------  --------------------  -------------------------  ---------------------------------  ------------------------  ------------------------  -----------------\n",
      "                  500                   0.00189               0.88861                    1.25668                            2.51337                   2.90668                   0.39332            795.745\n",
      "                  440                   0.00166               0.78198                    1.10588                            2.21176                   2.75588                   0.54412            795.745\n",
      "                  440                   0.0019                0.89164                    1.26098                            2.52195                   2.91098                   0.38902            697.872\n",
      "                  380                   0.00164               0.77006                    1.08902                            2.17805                   2.73902                   0.56098            697.872\n",
      "                  275                   0.0019                0.89164                    1.26098                            2.52195                   2.91098                   0.38902            436.17\n",
      "                  220                   0.00152               0.71332                    1.00878                            2.01756                   2.65878                   0.64122            436.17\n",
      "                  175                   0.0019                0.89476                    1.26538                            2.53077                   2.91538                   0.38462            276.596\n",
      "                  127                   0.00138               0.64934                    0.91831                            1.83662                   2.56831                   0.73169            276.596\n"
     ]
    }
   ],
   "source": [
    "from tabulate import tabulate\n",
    "print(tabulate([\n",
    "    calculate_data(500, 374000, 470),\n",
    "    calculate_data(440, 374000, 470),\n",
    "    calculate_data(440, 328000, 470),\n",
    "    calculate_data(380, 328000, 470),\n",
    "    calculate_data(275, 205000, 470),\n",
    "    calculate_data(220, 205000, 470),\n",
    "    calculate_data(175, 130000, 470),\n",
    "    calculate_data(127, 130000, 470)\n",
    "], headers=[\"Input Voltage (Vac)\", \"Tranformer Current (A)\", \"Output Voltage (V)\", \"Output Peak Voltage (V)\", \"Output Peak to Peak Voltage (V)\", \"Output Max Voltage (V)\", \"Output Min Voltage (V)\", \"Transform Ratio\"]))"
   ]
  },
  {
   "cell_type": "code",
   "execution_count": 29,
   "metadata": {},
   "outputs": [
    {
     "name": "stdout",
     "output_type": "stream",
     "text": [
      "  Input Voltage (Vac)    Tranformer Current (A)    Output Voltage (V)    Output Peak Voltage (V)    Output Peak to Peak Voltage (V)    Output Max Voltage (V)    Output Min Voltage (V)    Transform Ratio\n",
      "---------------------  ------------------------  --------------------  -------------------------  ---------------------------------  ------------------------  ------------------------  -----------------\n",
      "                  400                   0.00325               1.06635                    1.50805                            3.01609                   3.15805                   0.14195            530.488\n",
      "                  380                   0.00309               1.01303                    1.43264                            2.86529                   3.08264                   0.21736            530.488\n",
      "                  275                   0.00224               0.73312                    1.03678                            2.07356                   2.68678                   0.61322            530.488\n",
      "                  220                   0.00179               0.58649                    0.82943                            1.65885                   2.47943                   0.82057            530.488\n",
      "                  175                   0.00142               0.46653                    0.65977                            1.31954                   2.30977                   0.99023            530.488\n",
      "                  127                   0.00103               0.33857                    0.4788                             0.95761                   2.1288                    1.1712             530.488\n"
     ]
    }
   ],
   "source": [
    "from tabulate import tabulate\n",
    "print(tabulate([\n",
    "    calculate_data(400, 174000, 328),\n",
    "    calculate_data(380, 174000, 328),\n",
    "    calculate_data(275, 174000, 328),\n",
    "    calculate_data(220, 174000, 328),\n",
    "    calculate_data(175, 174000, 328),\n",
    "    calculate_data(127, 174000, 328)\n",
    "], headers=[\"Input Voltage (Vac)\", \"Tranformer Current (A)\", \"Output Voltage (V)\", \"Output Peak Voltage (V)\", \"Output Peak to Peak Voltage (V)\", \"Output Max Voltage (V)\", \"Output Min Voltage (V)\", \"Transform Ratio\"]))"
   ]
  }
 ],
 "metadata": {
  "kernelspec": {
   "display_name": "Python 3",
   "language": "python",
   "name": "python3"
  },
  "language_info": {
   "codemirror_mode": {
    "name": "ipython",
    "version": 3
   },
   "file_extension": ".py",
   "mimetype": "text/x-python",
   "name": "python",
   "nbconvert_exporter": "python",
   "pygments_lexer": "ipython3",
   "version": "3.12.2"
  }
 },
 "nbformat": 4,
 "nbformat_minor": 2
}
